{
  "cells": [
    {
      "cell_type": "code",
      "execution_count": null,
      "metadata": {
        "id": "JL8KBbByuKxc"
      },
      "outputs": [],
      "source": [
        "import requests \n",
        "import pandas as pd\n",
        "import json\n",
        "from datetime import date, timedelta"
      ]
    },
    {
      "cell_type": "code",
      "execution_count": null,
      "metadata": {
        "id": "MAxyjVlYvL84"
      },
      "outputs": [],
      "source": [
        "keyword=input(\"Enter a Keyword: \")\n",
        "keyword1=keyword\n",
        "\n",
        "site_list=[\"quora.com\",\"reddit.com\"]\n",
        "\n",
        "questions_list=[]\n",
        "\n",
        "for site in site_list:\n",
        "  keyword=keyword + \" site:\" + site\n",
        "  # Key\n",
        "\n",
        "  # print(keyword)\n",
        "\n",
        "  google_url=\"https://www.googleapis.com/customsearch/v1?key=key&cx=cx\"\n",
        "  google_url=google_url + \"&q=\" +keyword\n",
        "\n",
        "  # print(\"Google URL : \",google_url)\n",
        "\n",
        "  response=requests.get(google_url)\n",
        "  # print(\"Response : \",str(response.text))\n",
        "\n",
        "  json_response=json.loads(response.text)\n",
        "  search_time=json_response[\"searchInformation\"][\"searchTime\"]\n",
        "  # print(\"Search Time Taken is \",search_time)\n",
        "\n",
        "  total_results=int(json_response[\"searchInformation\"][\"totalResults\"])\n",
        "  # print(\"Total Results are \",total_results)\n",
        "  total_pages=round(total_results/10)\n",
        "\n",
        "  # nextIndex=json_response[\"queries\"][\"nextPage\"][0][\"startIndex\"]\n",
        "\n",
        "  try:\n",
        "    for item in json_response[\"items\"]:\n",
        "      title=item[\"title\"]\n",
        "      title=title.replace(\" - Quora\",\"\")\n",
        "      questions_list.append(title)\n",
        "\n",
        "  except Exception as e:\n",
        "    print(\"Exception \",e)\n",
        "\n",
        "  keyword=keyword1\n",
        "\n",
        "# questions_list\n",
        "questions_dict={\"Questions\":questions_list}\n",
        "df=pd.DataFrame(data=questions_dict)\n",
        "df.index += 1\n",
        "df"
      ]
    },
    {
      "cell_type": "code",
      "execution_count": null,
      "metadata": {
        "id": "a-kAikdUKCLS"
      },
      "outputs": [],
      "source": [
        "df.to_csv(keyword1+\"_Questions.csv\")"
      ]
    }
  ],
  "metadata": {
    "accelerator": "GPU",
    "colab": {
      "gpuType": "T4",
      "private_outputs": true,
      "provenance": []
    },
    "kernelspec": {
      "display_name": "Python 3",
      "name": "python3"
    },
    "language_info": {
      "name": "python"
    }
  },
  "nbformat": 4,
  "nbformat_minor": 0
}
